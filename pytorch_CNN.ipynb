{
  "nbformat": 4,
  "nbformat_minor": 0,
  "metadata": {
    "colab": {
      "name": "pytorch_CNN.ipynb",
      "version": "0.3.2",
      "provenance": [],
      "collapsed_sections": [],
      "include_colab_link": true
    },
    "kernelspec": {
      "name": "python3",
      "display_name": "Python 3"
    },
    "accelerator": "GPU"
  },
  "cells": [
    {
      "cell_type": "markdown",
      "metadata": {
        "id": "view-in-github",
        "colab_type": "text"
      },
      "source": [
        "<a href=\"https://colab.research.google.com/github/narmadhaprasanth/FirstFFNeuralNetwork/blob/master/pytorch_CNN.ipynb\" target=\"_parent\"><img src=\"https://colab.research.google.com/assets/colab-badge.svg\" alt=\"Open In Colab\"/></a>"
      ]
    },
    {
      "cell_type": "code",
      "metadata": {
        "id": "jSRYU_wlRYpw",
        "colab_type": "code",
        "colab": {}
      },
      "source": [
        "import torch\n",
        "import matplotlib.pyplot as plt\n",
        "import numpy as np"
      ],
      "execution_count": 0,
      "outputs": []
    },
    {
      "cell_type": "markdown",
      "metadata": {
        "id": "McE3qYNmTLWD",
        "colab_type": "text"
      },
      "source": [
        "#Dataloading\n",
        "\n",
        "http://www.cs.toronto.edu/~kriz/cifar.html\n",
        "\n",
        "torchvision is used to do computer vision tasks with pytorch"
      ]
    },
    {
      "cell_type": "code",
      "metadata": {
        "id": "JuOgMPojTDxg",
        "colab_type": "code",
        "colab": {
          "base_uri": "https://localhost:8080/",
          "height": 52
        },
        "outputId": "23c9aa8b-880a-4c77-e0e5-107a6f508987"
      },
      "source": [
        "import torchvision\n",
        "import torchvision.transforms as transforms\n",
        "trainset = torchvision.datasets.CIFAR10('./data', \n",
        "                                        download=True,\n",
        "                                        train=True,\n",
        "                                        transform=transforms.ToTensor())"
      ],
      "execution_count": 2,
      "outputs": [
        {
          "output_type": "stream",
          "text": [
            "  0%|          | 0/170498071 [00:00<?, ?it/s]"
          ],
          "name": "stderr"
        },
        {
          "output_type": "stream",
          "text": [
            "Downloading https://www.cs.toronto.edu/~kriz/cifar-10-python.tar.gz to ./data/cifar-10-python.tar.gz\n"
          ],
          "name": "stdout"
        },
        {
          "output_type": "stream",
          "text": [
            "170500096it [00:04, 41674292.54it/s]                               \n"
          ],
          "name": "stderr"
        }
      ]
    },
    {
      "cell_type": "code",
      "metadata": {
        "id": "SeaT1QdqUV24",
        "colab_type": "code",
        "colab": {}
      },
      "source": [
        "classes = ('plane','car','bird','cat','deer','dog','frog','horse','ship','truck')"
      ],
      "execution_count": 0,
      "outputs": []
    },
    {
      "cell_type": "code",
      "metadata": {
        "id": "Oxsto8-mWMG-",
        "colab_type": "code",
        "colab": {}
      },
      "source": [
        "trainloader = torch.utils.data.DataLoader(trainset,batch_size=4,shuffle=True)"
      ],
      "execution_count": 0,
      "outputs": []
    },
    {
      "cell_type": "code",
      "metadata": {
        "id": "kHzkeNdPbxDr",
        "colab_type": "code",
        "colab": {
          "base_uri": "https://localhost:8080/",
          "height": 69
        },
        "outputId": "b13fd290-a9ba-4973-c6d9-15a3ff5ba504"
      },
      "source": [
        "dataiter = iter(trainloader) #dataiter is an iterator that iterates over trainloader\n",
        "images, labels = dataiter.next()\n",
        "\n",
        "print(images.shape)\n",
        "\n",
        "print(images[0].shape)\n",
        "print(labels[0].item())\n"
      ],
      "execution_count": 5,
      "outputs": [
        {
          "output_type": "stream",
          "text": [
            "torch.Size([4, 3, 32, 32])\n",
            "torch.Size([3, 32, 32])\n",
            "5\n"
          ],
          "name": "stdout"
        }
      ]
    },
    {
      "cell_type": "markdown",
      "metadata": {
        "id": "EMMuzzgFC2qC",
        "colab_type": "text"
      },
      "source": [
        "#Visualise Data"
      ]
    },
    {
      "cell_type": "code",
      "metadata": {
        "id": "xP1uxC1WC4Vg",
        "colab_type": "code",
        "colab": {
          "base_uri": "https://localhost:8080/",
          "height": 35
        },
        "outputId": "61caaa3e-8ce5-42cb-d7c3-5dd57246153e"
      },
      "source": [
        "img = images[0]\n",
        "print(type(images))\n"
      ],
      "execution_count": 6,
      "outputs": [
        {
          "output_type": "stream",
          "text": [
            "<class 'torch.Tensor'>\n"
          ],
          "name": "stdout"
        }
      ]
    },
    {
      "cell_type": "code",
      "metadata": {
        "id": "joX_E6tJDAZz",
        "colab_type": "code",
        "colab": {
          "base_uri": "https://localhost:8080/",
          "height": 35
        },
        "outputId": "348493ad-aa6f-4199-ed5a-b5ce746c2ad5"
      },
      "source": [
        "npimg = img.numpy()\n",
        "print(npimg.shape)"
      ],
      "execution_count": 7,
      "outputs": [
        {
          "output_type": "stream",
          "text": [
            "(3, 32, 32)\n"
          ],
          "name": "stdout"
        }
      ]
    },
    {
      "cell_type": "code",
      "metadata": {
        "id": "4eAJSFDEDfos",
        "colab_type": "code",
        "colab": {
          "base_uri": "https://localhost:8080/",
          "height": 35
        },
        "outputId": "939702c4-bc6d-47d5-db80-872152badd0b"
      },
      "source": [
        "npimg = np.transpose(npimg,(1,2,0))\n",
        "print(npimg.shape)"
      ],
      "execution_count": 8,
      "outputs": [
        {
          "output_type": "stream",
          "text": [
            "(32, 32, 3)\n"
          ],
          "name": "stdout"
        }
      ]
    },
    {
      "cell_type": "code",
      "metadata": {
        "id": "XVYXqas3DnQi",
        "colab_type": "code",
        "colab": {
          "base_uri": "https://localhost:8080/",
          "height": 160
        },
        "outputId": "b8736d7b-4e93-4fe7-d49a-123f4b3992f2"
      },
      "source": [
        "plt.figure(figsize=(2,2))\n",
        "plt.imshow(npimg)\n",
        "plt.show()"
      ],
      "execution_count": 9,
      "outputs": [
        {
          "output_type": "display_data",
          "data": {
            "image/png": "[encoded data removed]",
            "text/plain": [
              "<Figure size 144x144 with 1 Axes>"
            ]
          },
          "metadata": {
            "tags": []
          }
        }
      ]
    },
    {
      "cell_type": "code",
      "metadata": {
        "id": "so_JmSATD2Lz",
        "colab_type": "code",
        "colab": {}
      },
      "source": [
        "def imshow(img):\n",
        "  npimg = img.numpy()\n",
        "  plt.imshow(np.transpose(npimg,(1,2,0)))\n",
        "  plt.show()"
      ],
      "execution_count": 0,
      "outputs": []
    },
    {
      "cell_type": "code",
      "metadata": {
        "id": "grI8duP4EnS5",
        "colab_type": "code",
        "colab": {
          "base_uri": "https://localhost:8080/",
          "height": 156
        },
        "outputId": "48b0162b-a0ab-4f5c-b176-d0f92b7a455a"
      },
      "source": [
        "imshow(torchvision.utils.make_grid(images))\n",
        "print(' ' .join(classes[labels[j]] for j in range(4)))"
      ],
      "execution_count": 11,
      "outputs": [
        {
          "output_type": "display_data",
          "data": {
            "image/png": "[encoded data removed]",
            "text/plain": [
              "<Figure size 432x288 with 1 Axes>"
            ]
          },
          "metadata": {
            "tags": []
          }
        },
        {
          "output_type": "stream",
          "text": [
            "dog deer ship bird\n"
          ],
          "name": "stdout"
        }
      ]
    },
    {
      "cell_type": "markdown",
      "metadata": {
        "id": "3xFmviVzIdIA",
        "colab_type": "text"
      },
      "source": [
        "#Single Convolutional Layer"
      ]
    },
    {
      "cell_type": "code",
      "metadata": {
        "id": "YCt0EeipGdN7",
        "colab_type": "code",
        "colab": {}
      },
      "source": [
        "import torch.nn as nn\n",
        "\n",
        "class FirstCNN(nn.Module):\n",
        "  \n",
        "  def __init__(self):\n",
        "    super(FirstCNN,self).__init__()\n",
        "    self.conv1 = nn.Conv2d(3,16,3, padding=(1,1), stride=(2,2)) #no of channels in each image, no of kernels/no of output channel, kernel dimension\n",
        "    \n",
        "  def forward(self, x):\n",
        "    x = self.conv1(x)\n",
        "    return x"
      ],
      "execution_count": 0,
      "outputs": []
    },
    {
      "cell_type": "code",
      "metadata": {
        "id": "HwmpTXkNJaWJ",
        "colab_type": "code",
        "colab": {}
      },
      "source": [
        "net = FirstCNN()"
      ],
      "execution_count": 0,
      "outputs": []
    },
    {
      "cell_type": "code",
      "metadata": {
        "id": "g122XiweJcVb",
        "colab_type": "code",
        "colab": {
          "base_uri": "https://localhost:8080/",
          "height": 35
        },
        "outputId": "bf35e44f-5f80-4f93-9aaa-f3b2b071ac1e"
      },
      "source": [
        "out = net(images)\n",
        "out.shape #4 - number of inputs, 16-no of output channels, 30,30 - dimension of the image"
      ],
      "execution_count": 14,
      "outputs": [
        {
          "output_type": "execute_result",
          "data": {
            "text/plain": [
              "torch.Size([4, 16, 16, 16])"
            ]
          },
          "metadata": {
            "tags": []
          },
          "execution_count": 14
        }
      ]
    },
    {
      "cell_type": "code",
      "metadata": {
        "id": "WKqhrTWSJgEZ",
        "colab_type": "code",
        "colab": {
          "base_uri": "https://localhost:8080/",
          "height": 52
        },
        "outputId": "9228f7dd-7831-4fde-a4e8-82921b502ff3"
      },
      "source": [
        "for param in net.parameters():\n",
        "  print(param.shape) #weights and bias"
      ],
      "execution_count": 15,
      "outputs": [
        {
          "output_type": "stream",
          "text": [
            "torch.Size([16, 3, 3, 3])\n",
            "torch.Size([16])\n"
          ],
          "name": "stdout"
        }
      ]
    },
    {
      "cell_type": "code",
      "metadata": {
        "id": "FFZyds3NNNJ8",
        "colab_type": "code",
        "colab": {
          "base_uri": "https://localhost:8080/",
          "height": 35
        },
        "outputId": "8c62f109-f03d-445c-ec40-b807ba2539a0"
      },
      "source": [
        "out1 = out[0,0,:,:].detach().numpy()\n",
        "print(out1.shape)"
      ],
      "execution_count": 16,
      "outputs": [
        {
          "output_type": "stream",
          "text": [
            "(16, 16)\n"
          ],
          "name": "stdout"
        }
      ]
    },
    {
      "cell_type": "code",
      "metadata": {
        "id": "mRqLREjkOB7-",
        "colab_type": "code",
        "colab": {
          "base_uri": "https://localhost:8080/",
          "height": 269
        },
        "outputId": "5cbfebfa-3bd5-4c29-b514-c677ad40136d"
      },
      "source": [
        "plt.imshow(out[0,0,:,:].detach().numpy())\n",
        "plt.show()"
      ],
      "execution_count": 17,
      "outputs": [
        {
          "output_type": "display_data",
          "data": {
            "image/png": "[encoded data removed]",
            "text/plain": [
              "<Figure size 432x288 with 1 Axes>"
            ]
          },
          "metadata": {
            "tags": []
          }
        }
      ]
    },
    {
      "cell_type": "markdown",
      "metadata": {
        "id": "MWBvcs6jPFoq",
        "colab_type": "text"
      },
      "source": [
        "#Deep CNN"
      ]
    },
    {
      "cell_type": "code",
      "metadata": {
        "id": "we1H8zu1OMKp",
        "colab_type": "code",
        "colab": {}
      },
      "source": [
        "class FirstCNN_v2(nn.Module):\n",
        "  \n",
        "  def __init__(self):\n",
        "    super(FirstCNN_v2, self).__init__()\n",
        "    self.model = nn.Sequential(\n",
        "        nn.Conv2d(3,8,3), #(N,3,32,32) -> (N,8,30,30)\n",
        "        nn.Conv2d(8,16,3)) #(N,8,30,30) -> (N,16,28,28)\n",
        "    \n",
        "  def forward(self, x):\n",
        "    x = self.model(x)\n",
        "    return x"
      ],
      "execution_count": 0,
      "outputs": []
    },
    {
      "cell_type": "code",
      "metadata": {
        "id": "0b79Sw7UQPyW",
        "colab_type": "code",
        "colab": {
          "base_uri": "https://localhost:8080/",
          "height": 35
        },
        "outputId": "07454a21-444b-4fa9-fe2e-797642070734"
      },
      "source": [
        "net = FirstCNN_v2()\n",
        "out = net(images)\n",
        "out.shape"
      ],
      "execution_count": 19,
      "outputs": [
        {
          "output_type": "execute_result",
          "data": {
            "text/plain": [
              "torch.Size([4, 16, 28, 28])"
            ]
          },
          "metadata": {
            "tags": []
          },
          "execution_count": 19
        }
      ]
    },
    {
      "cell_type": "code",
      "metadata": {
        "id": "iYio2SLnQdFs",
        "colab_type": "code",
        "colab": {
          "base_uri": "https://localhost:8080/",
          "height": 269
        },
        "outputId": "8dffea15-78e4-4bb0-8a65-2eaace89dd91"
      },
      "source": [
        "plt.imshow(out[0,0,:,:].detach().numpy())\n",
        "plt.show()"
      ],
      "execution_count": 20,
      "outputs": [
        {
          "output_type": "display_data",
          "data": {
            "image/png": "[encoded data removed]",
            "text/plain": [
              "<Figure size 432x288 with 1 Axes>"
            ]
          },
          "metadata": {
            "tags": []
          }
        }
      ]
    },
    {
      "cell_type": "code",
      "metadata": {
        "id": "0vRizd0jQoK_",
        "colab_type": "code",
        "colab": {}
      },
      "source": [
        "class FirstCNN_v3(nn.Module):\n",
        "  \n",
        "  def __init__(self):\n",
        "    super(FirstCNN_v3, self).__init__()\n",
        "    self.model = nn.Sequential(\n",
        "        nn.Conv2d(3,6,5), #(N,3,32,32) - > (N,6,28,28)\n",
        "        nn.AvgPool2d(2,stride=2), #(N,6,28,28) -> (N,6,14,14)\n",
        "        nn.Conv2d(6,16,5), #(N,6,14,14) -> (N,16,10,10)\n",
        "        nn.AvgPool2d(2,stride=2)) #(N,16,10,10) -> (N,16,5,5)\n",
        "    \n",
        "  def forward(self, x):\n",
        "    x = self.model(x)\n",
        "    return x"
      ],
      "execution_count": 0,
      "outputs": []
    },
    {
      "cell_type": "code",
      "metadata": {
        "id": "bFlLqx93T8o6",
        "colab_type": "code",
        "colab": {
          "base_uri": "https://localhost:8080/",
          "height": 35
        },
        "outputId": "ddcdc2a9-6ae8-4ef5-f426-6336387958d6"
      },
      "source": [
        "net = FirstCNN_v3()\n",
        "out = net(images)\n",
        "out.shape"
      ],
      "execution_count": 22,
      "outputs": [
        {
          "output_type": "execute_result",
          "data": {
            "text/plain": [
              "torch.Size([4, 16, 5, 5])"
            ]
          },
          "metadata": {
            "tags": []
          },
          "execution_count": 22
        }
      ]
    },
    {
      "cell_type": "code",
      "metadata": {
        "id": "FH87mgG7T-WQ",
        "colab_type": "code",
        "colab": {
          "base_uri": "https://localhost:8080/",
          "height": 269
        },
        "outputId": "8aa36267-7c61-4df2-c3ee-0d5cb05658b2"
      },
      "source": [
        "plt.imshow(out[0,0,:,:].detach().numpy())\n",
        "plt.show()\n"
      ],
      "execution_count": 23,
      "outputs": [
        {
          "output_type": "display_data",
          "data": {
            "image/png": "[encoded data removed]",
            "text/plain": [
              "<Figure size 432x288 with 1 Axes>"
            ]
          },
          "metadata": {
            "tags": []
          }
        }
      ]
    },
    {
      "cell_type": "markdown",
      "metadata": {
        "id": "Gd_8ol56VV3H",
        "colab_type": "text"
      },
      "source": [
        "#LeNet"
      ]
    },
    {
      "cell_type": "code",
      "metadata": {
        "id": "zRcVwGqtUJmG",
        "colab_type": "code",
        "colab": {}
      },
      "source": [
        "class LeNet(nn.Module):\n",
        "  def __init__(self):\n",
        "    super(LeNet,self).__init__()\n",
        "    self.cnn_model = nn.Sequential(\n",
        "        nn.Conv2d(3,6,5), #(N,3,32,32) - >(N,5,28,28)\n",
        "        nn.Tanh(),\n",
        "        nn.AvgPool2d(2,stride=2), #(N,5,28,28) -> (N,5,14,14)\n",
        "        nn.Conv2d(6,16,5), #(N,6,14,14) -> (N,16, 10,10)\n",
        "        nn.Tanh(),\n",
        "        nn.AvgPool2d(2,stride=2)) #(N,16, 10,10) -> (N,16,5,5)\n",
        "    \n",
        "    self.fc_model = nn.Sequential(\n",
        "        nn.Linear(400,120),\n",
        "        nn.Tanh(),\n",
        "        nn.Linear(120,84),\n",
        "        nn.Tanh(),\n",
        "        nn.Linear(84,10))\n",
        "    \n",
        "  def forward(self,x):\n",
        "    #print(x.shape)\n",
        "    x = self.cnn_model(x)\n",
        "    #print(x.shape)\n",
        "    x = x.view(x.size(0),-1) #flattening of tensor,where first index remains same and all other indices are collapsed\n",
        "    #print(x.shape)\n",
        "    x= self.fc_model(x)\n",
        "    #print(x.shape)\n",
        "    return x"
      ],
      "execution_count": 0,
      "outputs": []
    },
    {
      "cell_type": "code",
      "metadata": {
        "id": "prDaC6eKbPsS",
        "colab_type": "code",
        "colab": {}
      },
      "source": [
        "net = LeNet()\n",
        "out = net(images)\n"
      ],
      "execution_count": 0,
      "outputs": []
    },
    {
      "cell_type": "code",
      "metadata": {
        "id": "tCUpEh0bbXCF",
        "colab_type": "code",
        "colab": {
          "base_uri": "https://localhost:8080/",
          "height": 155
        },
        "outputId": "866451a6-0a10-423b-ccfa-956d1627cdbb"
      },
      "source": [
        "print(out)"
      ],
      "execution_count": 26,
      "outputs": [
        {
          "output_type": "stream",
          "text": [
            "tensor([[ 0.1545,  0.0574, -0.0535, -0.1168, -0.0921,  0.1312,  0.0770,  0.1034,\n",
            "          0.0950, -0.0863],\n",
            "        [ 0.1718,  0.0699, -0.0934, -0.1022, -0.0713,  0.0809,  0.0614,  0.0792,\n",
            "          0.0701, -0.0607],\n",
            "        [ 0.1570,  0.0556, -0.0582, -0.1126, -0.0814,  0.1215,  0.0576,  0.0625,\n",
            "          0.0966, -0.1053],\n",
            "        [ 0.1512,  0.0542, -0.0657, -0.1263, -0.0872,  0.1339,  0.0682,  0.0793,\n",
            "          0.0964, -0.0969]], grad_fn=<AddmmBackward>)\n"
          ],
          "name": "stdout"
        }
      ]
    },
    {
      "cell_type": "code",
      "metadata": {
        "id": "nBQs113ycOQ-",
        "colab_type": "code",
        "colab": {
          "base_uri": "https://localhost:8080/",
          "height": 35
        },
        "outputId": "87ca45f6-94be-4d2e-cde9-80e24abfa353"
      },
      "source": [
        "max_values, pred_class = torch.max(out.data, 1)\n",
        "print(pred_class)"
      ],
      "execution_count": 27,
      "outputs": [
        {
          "output_type": "stream",
          "text": [
            "tensor([0, 0, 0, 0])\n"
          ],
          "name": "stdout"
        }
      ]
    },
    {
      "cell_type": "markdown",
      "metadata": {
        "id": "U_OoR5IjdNIr",
        "colab_type": "text"
      },
      "source": [
        "#Training LeNet"
      ]
    },
    {
      "cell_type": "code",
      "metadata": {
        "id": "9dsCkkadcmXs",
        "colab_type": "code",
        "colab": {}
      },
      "source": [
        "class LeNet(nn.Module):\n",
        "  def __init__(self):\n",
        "    super(LeNet,self).__init__()\n",
        "    self.cnn_model = nn.Sequential(\n",
        "        nn.Conv2d(3,6,5), #(N,3,32,32) - >(N,5,28,28)\n",
        "        nn.Tanh(),\n",
        "        nn.AvgPool2d(2,stride=2), #(N,5,28,28) -> (N,5,14,14)\n",
        "        nn.Conv2d(6,16,5), #(N,6,14,14) -> (N,16, 10,10)\n",
        "        nn.Tanh(),\n",
        "        nn.AvgPool2d(2,stride=2)) #(N,16, 10,10) -> (N,16,5,5)\n",
        "    \n",
        "    self.fc_model = nn.Sequential(\n",
        "        nn.Linear(400,120),\n",
        "        nn.Tanh(),\n",
        "        nn.Linear(120,84),\n",
        "        nn.Tanh(),\n",
        "        nn.Linear(84,10))\n",
        "    \n",
        "  def forward(self,x):\n",
        "    #print(x.shape)\n",
        "    x = self.cnn_model(x)\n",
        "    #print(x.shape)\n",
        "    x = x.view(x.size(0),-1) #flattening of tensor,where first index remains same and all other indices are collapsed\n",
        "    #print(x.shape)\n",
        "    x= self.fc_model(x)\n",
        "    #print(x.shape)\n",
        "    return x"
      ],
      "execution_count": 0,
      "outputs": []
    },
    {
      "cell_type": "code",
      "metadata": {
        "id": "hv_tU4u2_L3E",
        "colab_type": "code",
        "colab": {
          "base_uri": "https://localhost:8080/",
          "height": 52
        },
        "outputId": "1e27dbf2-e46f-461d-cd5a-5cd846869764"
      },
      "source": [
        "batch_size = 128\n",
        "trainset = torchvision.datasets.CIFAR10(root='./data', train=True, download=True, transform=transforms.ToTensor())\n",
        "trainloader = torch.utils.data.DataLoader(trainset, batch_size=batch_size, shuffle=True)\n",
        "testset = torchvision.datasets.CIFAR10(root='./data', train=False, download=True, transform=transforms.ToTensor())\n",
        "testloader = torch.utils.data.DataLoader(testset, batch_size=batch_size, shuffle=False)"
      ],
      "execution_count": 29,
      "outputs": [
        {
          "output_type": "stream",
          "text": [
            "Files already downloaded and verified\n",
            "Files already downloaded and verified\n"
          ],
          "name": "stdout"
        }
      ]
    },
    {
      "cell_type": "code",
      "metadata": {
        "id": "CPQquao3_whR",
        "colab_type": "code",
        "colab": {}
      },
      "source": [
        "def evaluation(dataloader):\n",
        "  total, correct = 0,0\n",
        "  for data in dataloader:\n",
        "    inputs, labels = data\n",
        "    outputs = net(inputs)\n",
        "    _, pred = torch.max(outputs.data, 1)\n",
        "    total += labels.size(0)\n",
        "    correct += (pred == labels).sum().item()\n",
        "    \n",
        "  return 100 * correct/total\n",
        "    "
      ],
      "execution_count": 0,
      "outputs": []
    },
    {
      "cell_type": "code",
      "metadata": {
        "id": "fO3UuepBAboc",
        "colab_type": "code",
        "colab": {}
      },
      "source": [
        "net = LeNet()"
      ],
      "execution_count": 0,
      "outputs": []
    },
    {
      "cell_type": "code",
      "metadata": {
        "id": "R5z9wKOnAkV1",
        "colab_type": "code",
        "colab": {}
      },
      "source": [
        "import torch.optim as optim\n",
        "\n",
        "loss_fn = nn.CrossEntropyLoss()\n",
        "opt = optim.Adam(net.parameters())"
      ],
      "execution_count": 0,
      "outputs": []
    },
    {
      "cell_type": "code",
      "metadata": {
        "id": "VxKLozBsAz-J",
        "colab_type": "code",
        "colab": {
          "base_uri": "https://localhost:8080/",
          "height": 580
        },
        "outputId": "65985884-561e-458b-908f-1c4097921d73"
      },
      "source": [
        "%%time\n",
        "loss_arr = []\n",
        "loss_epoch_arr =  []\n",
        "max_epochs = 16\n",
        "\n",
        "for epoch in range(max_epochs):\n",
        "  \n",
        "  for i,data in enumerate(trainloader, 0):\n",
        "    \n",
        "    inputs, labels = data\n",
        "    \n",
        "    opt.zero_grad()\n",
        "    \n",
        "    outputs = net(inputs)\n",
        "    loss = loss_fn(outputs, labels)\n",
        "    loss.backward()\n",
        "    opt.step()\n",
        "    \n",
        "    loss_arr.append(loss.item())\n",
        "    \n",
        "  loss_epoch_arr.append(loss.item())\n",
        "  \n",
        "  print('Epoch:%d/%d, Test accuracy:%0.2f, Train accuracy:%0.2f' %(epoch, max_epochs, evaluation(testloader), evaluation(trainloader)))\n",
        "  \n",
        "plt.plot(loss_epoch_arr)\n",
        "plt.show()"
      ],
      "execution_count": 69,
      "outputs": [
        {
          "output_type": "stream",
          "text": [
            "Epoch:0/16, Test accuracy:38.65, Train accuracy:38.90\n",
            "Epoch:1/16, Test accuracy:43.81, Train accuracy:44.20\n",
            "Epoch:2/16, Test accuracy:47.25, Train accuracy:47.64\n",
            "Epoch:3/16, Test accuracy:49.68, Train accuracy:50.89\n",
            "Epoch:4/16, Test accuracy:50.93, Train accuracy:53.11\n",
            "Epoch:5/16, Test accuracy:52.44, Train accuracy:54.98\n",
            "Epoch:6/16, Test accuracy:53.05, Train accuracy:56.45\n",
            "Epoch:7/16, Test accuracy:53.54, Train accuracy:57.73\n",
            "Epoch:8/16, Test accuracy:54.57, Train accuracy:59.18\n",
            "Epoch:9/16, Test accuracy:54.87, Train accuracy:60.79\n",
            "Epoch:10/16, Test accuracy:54.07, Train accuracy:60.31\n",
            "Epoch:11/16, Test accuracy:55.19, Train accuracy:62.61\n",
            "Epoch:12/16, Test accuracy:55.05, Train accuracy:62.74\n",
            "Epoch:13/16, Test accuracy:55.91, Train accuracy:64.32\n",
            "Epoch:14/16, Test accuracy:55.24, Train accuracy:64.00\n",
            "Epoch:15/16, Test accuracy:55.14, Train accuracy:65.57\n"
          ],
          "name": "stdout"
        },
        {
          "output_type": "display_data",
          "data": {
            "image/png": "[encoded data removed]",
            "text/plain": [
              "<Figure size 432x288 with 1 Axes>"
            ]
          },
          "metadata": {
            "tags": []
          }
        },
        {
          "output_type": "stream",
          "text": [
            "CPU times: user 8min 47s, sys: 12.5 s, total: 8min 59s\n",
            "Wall time: 9min\n"
          ],
          "name": "stdout"
        }
      ]
    },
    {
      "cell_type": "markdown",
      "metadata": {
        "id": "uI46YIL1EGt7",
        "colab_type": "text"
      },
      "source": [
        "#Move to GPU"
      ]
    },
    {
      "cell_type": "code",
      "metadata": {
        "id": "YGKP1HjbCMFw",
        "colab_type": "code",
        "colab": {
          "base_uri": "https://localhost:8080/",
          "height": 35
        },
        "outputId": "144e76fd-d951-409d-e845-dcd02b011e58"
      },
      "source": [
        "device = torch.device('cuda:0' if torch.cuda.is_available() else 'cpu')\n",
        "print(device)"
      ],
      "execution_count": 33,
      "outputs": [
        {
          "output_type": "stream",
          "text": [
            "cuda:0\n"
          ],
          "name": "stdout"
        }
      ]
    },
    {
      "cell_type": "code",
      "metadata": {
        "id": "-GjiB58eEUyF",
        "colab_type": "code",
        "colab": {}
      },
      "source": [
        "def evaluation(dataloader):\n",
        "  total, correct = 0,0\n",
        "  for data in dataloader:\n",
        "    inputs, labels = data\n",
        "    inputs, labels = inputs.to(device), labels.to(device)\n",
        "    outputs = net(inputs)\n",
        "    _, pred = torch.max(outputs.data, 1)\n",
        "    total += labels.size(0)\n",
        "    correct += (pred == labels).sum().item()\n",
        "    \n",
        "  return 100 * correct/total\n",
        "    "
      ],
      "execution_count": 0,
      "outputs": []
    },
    {
      "cell_type": "code",
      "metadata": {
        "id": "ifNQS_edEr4B",
        "colab_type": "code",
        "colab": {}
      },
      "source": [
        "net = LeNet().to(device)\n",
        "loss_fn = nn.CrossEntropyLoss()\n",
        "opt = optim.Adam(net.parameters())"
      ],
      "execution_count": 0,
      "outputs": []
    },
    {
      "cell_type": "code",
      "metadata": {
        "id": "2slBziCOE2KF",
        "colab_type": "code",
        "colab": {
          "base_uri": "https://localhost:8080/",
          "height": 580
        },
        "outputId": "b1078974-6f1f-4a79-efc1-729edd3f9742"
      },
      "source": [
        "%%time\n",
        "loss_arr = []\n",
        "loss_epoch_arr =  []\n",
        "max_epochs = 16\n",
        "\n",
        "for epoch in range(max_epochs):\n",
        "  \n",
        "  for i,data in enumerate(trainloader, 0):\n",
        "    \n",
        "    inputs, labels = data\n",
        "    inputs, labels = inputs.to(device), labels.to(device)\n",
        "    \n",
        "    opt.zero_grad()\n",
        "    \n",
        "    outputs = net(inputs)\n",
        "    loss = loss_fn(outputs, labels)\n",
        "    loss.backward()\n",
        "    opt.step()\n",
        "    \n",
        "    loss_arr.append(loss.item())\n",
        "    \n",
        "  loss_epoch_arr.append(loss.item())\n",
        "  \n",
        "  print('Epoch:%d/%d, Test accuracy:%0.2f, Train accuracy:%0.2f' %(epoch, max_epochs, evaluation(testloader), evaluation(trainloader)))\n",
        "  \n",
        "plt.plot(loss_epoch_arr)\n",
        "plt.show()"
      ],
      "execution_count": 36,
      "outputs": [
        {
          "output_type": "stream",
          "text": [
            "Epoch:0/16, Test accuracy:39.13, Train accuracy:38.75\n",
            "Epoch:1/16, Test accuracy:42.58, Train accuracy:42.69\n",
            "Epoch:2/16, Test accuracy:46.03, Train accuracy:47.09\n",
            "Epoch:3/16, Test accuracy:47.40, Train accuracy:48.81\n",
            "Epoch:4/16, Test accuracy:50.04, Train accuracy:52.23\n",
            "Epoch:5/16, Test accuracy:50.88, Train accuracy:53.71\n",
            "Epoch:6/16, Test accuracy:52.60, Train accuracy:56.10\n",
            "Epoch:7/16, Test accuracy:53.27, Train accuracy:57.12\n",
            "Epoch:8/16, Test accuracy:53.78, Train accuracy:59.01\n",
            "Epoch:9/16, Test accuracy:53.55, Train accuracy:58.72\n",
            "Epoch:10/16, Test accuracy:55.83, Train accuracy:61.43\n",
            "Epoch:11/16, Test accuracy:55.76, Train accuracy:62.75\n",
            "Epoch:12/16, Test accuracy:55.73, Train accuracy:63.62\n",
            "Epoch:13/16, Test accuracy:54.85, Train accuracy:62.97\n",
            "Epoch:14/16, Test accuracy:55.87, Train accuracy:65.18\n",
            "Epoch:15/16, Test accuracy:56.04, Train accuracy:66.09\n"
          ],
          "name": "stdout"
        },
        {
          "output_type": "display_data",
          "data": {
            "image/png": "[encoded data removed]",
            "text/plain": [
              "<Figure size 432x288 with 1 Axes>"
            ]
          },
          "metadata": {
            "tags": []
          }
        },
        {
          "output_type": "stream",
          "text": [
            "CPU times: user 3min 9s, sys: 4.64 s, total: 3min 14s\n",
            "Wall time: 3min 14s\n"
          ],
          "name": "stdout"
        }
      ]
    },
    {
      "cell_type": "markdown",
      "metadata": {
        "id": "1LZq3FsFGDbb",
        "colab_type": "text"
      },
      "source": [
        "#basic Visualization"
      ]
    },
    {
      "cell_type": "code",
      "metadata": {
        "id": "YMvgRdPBFtxf",
        "colab_type": "code",
        "colab": {
          "base_uri": "https://localhost:8080/",
          "height": 139
        },
        "outputId": "c4ca7317-aef0-4147-ceab-e53ed439a6e3"
      },
      "source": [
        "imshow(torchvision.utils.make_grid(images))"
      ],
      "execution_count": 37,
      "outputs": [
        {
          "output_type": "display_data",
          "data": {
            "image/png": "[encoded data removed]",
            "text/plain": [
              "<Figure size 432x288 with 1 Axes>"
            ]
          },
          "metadata": {
            "tags": []
          }
        }
      ]
    },
    {
      "cell_type": "code",
      "metadata": {
        "id": "HqHzyK2ZGRA9",
        "colab_type": "code",
        "colab": {}
      },
      "source": [
        "net = net.to('cpu')"
      ],
      "execution_count": 0,
      "outputs": []
    },
    {
      "cell_type": "code",
      "metadata": {
        "id": "oLKn0ZG3GUlk",
        "colab_type": "code",
        "colab": {
          "base_uri": "https://localhost:8080/",
          "height": 35
        },
        "outputId": "8c85b06a-b0aa-48d1-a53e-10fbaa92db72"
      },
      "source": [
        "out = net(images)\n",
        "print(out.shape)"
      ],
      "execution_count": 45,
      "outputs": [
        {
          "output_type": "stream",
          "text": [
            "torch.Size([4, 10])\n"
          ],
          "name": "stdout"
        }
      ]
    },
    {
      "cell_type": "code",
      "metadata": {
        "id": "YryKWR7YGWd-",
        "colab_type": "code",
        "colab": {
          "base_uri": "https://localhost:8080/",
          "height": 35
        },
        "outputId": "fbf06f02-4b6a-45d3-83b0-edf60f0475c7"
      },
      "source": [
        "out = net.cnn_model[0](images)\n",
        "out.shape"
      ],
      "execution_count": 48,
      "outputs": [
        {
          "output_type": "execute_result",
          "data": {
            "text/plain": [
              "torch.Size([4, 6, 28, 28])"
            ]
          },
          "metadata": {
            "tags": []
          },
          "execution_count": 48
        }
      ]
    },
    {
      "cell_type": "code",
      "metadata": {
        "id": "uh_wzzWQGb4P",
        "colab_type": "code",
        "colab": {
          "base_uri": "https://localhost:8080/",
          "height": 160
        },
        "outputId": "7adecd75-ae82-4817-f00a-4884bfbd10e2"
      },
      "source": [
        "image_id = 3\n",
        "plt.figure(figsize=(2,2))\n",
        "imshow(images[image_id,])"
      ],
      "execution_count": 49,
      "outputs": [
        {
          "output_type": "display_data",
          "data": {
            "image/png": "[encoded data removed]",
            "text/plain": [
              "<Figure size 144x144 with 1 Axes>"
            ]
          },
          "metadata": {
            "tags": []
          }
        }
      ]
    },
    {
      "cell_type": "code",
      "metadata": {
        "id": "d7VITr3KGzPJ",
        "colab_type": "code",
        "colab": {
          "base_uri": "https://localhost:8080/",
          "height": 450
        },
        "outputId": "83f8071b-222b-4f92-f492-13235454140b"
      },
      "source": [
        "plt.figure(figsize=(6,6))\n",
        "plt.subplot(321)\n",
        "for i in range(6):\n",
        "  ax1 = plt.subplot(3,2,i+1)\n",
        "  plt.imshow(out[image_id, i, :, :].detach().numpy(), cmap='binary')\n",
        "plt.show()"
      ],
      "execution_count": 50,
      "outputs": [
        {
          "output_type": "stream",
          "text": [
            "/usr/local/lib/python3.6/dist-packages/matplotlib/figure.py:98: MatplotlibDeprecationWarning: \n",
            "Adding an axes using the same arguments as a previous axes currently reuses the earlier instance.  In a future version, a new instance will always be created and returned.  Meanwhile, this warning can be suppressed, and the future behavior ensured, by passing a unique label to each axes instance.\n",
            "  \"Adding an axes using the same arguments as a previous axes \"\n"
          ],
          "name": "stderr"
        },
        {
          "output_type": "display_data",
          "data": {
            "image/png": "[encoded data removed]",
            "text/plain": [
              "<Figure size 432x432 with 6 Axes>"
            ]
          },
          "metadata": {
            "tags": []
          }
        }
      ]
    },
    {
      "cell_type": "code",
      "metadata": {
        "id": "8hUYS10sHsB4",
        "colab_type": "code",
        "colab": {}
      },
      "source": [
        ""
      ],
      "execution_count": 0,
      "outputs": []
    }
  ]
}